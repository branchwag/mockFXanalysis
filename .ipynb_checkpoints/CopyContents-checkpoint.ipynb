{
 "cells": [
  {
   "cell_type": "code",
   "execution_count": 1,
   "id": "0d84491c-2ff3-4c28-9fa8-b280d6df54d8",
   "metadata": {},
   "outputs": [
    {
     "name": "stdout",
     "output_type": "stream",
     "text": [
      "Notebook content copied to clipboard.\n"
     ]
    }
   ],
   "source": [
    "#Script for copying notebook contents\n",
    "import pyperclip\n",
    "import nbformat\n",
    "\n",
    "# Load the notebook file\n",
    "with open('FX_Analysis.ipynb', 'r', encoding='utf-8') as f:\n",
    "    notebook_content = nbformat.read(f, as_version=4)\n",
    "\n",
    "# Extract code and output content\n",
    "notebook_text = \"\"\n",
    "for cell in notebook_content['cells']:\n",
    "    if cell['cell_type'] == 'code':\n",
    "        # Add the code content\n",
    "        notebook_text += f\"Code:\\n{cell['source']}\\n\"\n",
    "        \n",
    "        # Check if the cell has outputs\n",
    "        if 'outputs' in cell:\n",
    "            for output in cell['outputs']:\n",
    "                # Ensure the 'data' attribute exists before accessing it\n",
    "                if 'data' in output:\n",
    "                    # Handle text/plain output\n",
    "                    if 'text/plain' in output.data:\n",
    "                        notebook_text += f\"Output (text/plain):\\n{output.data['text/plain']}\\n\"\n",
    "                    \n",
    "                    # Handle text/html output\n",
    "                    elif 'text/html' in output.data:\n",
    "                        notebook_text += f\"HTML Output:\\n{output.data['text/html']}\\n\"\n",
    "                    \n",
    "                    # Handle image/png output\n",
    "                    elif 'image/png' in output.data:\n",
    "                        notebook_text += f\"Image Output (PNG): Image data found.\\n\"\n",
    "                    \n",
    "                    # Add additional output types as needed\n",
    "                    # Handle other types like LaTeX, JSON, etc.\n",
    "                    elif 'application/json' in output.data:\n",
    "                        notebook_text += f\"JSON Output: {output.data['application/json']}\\n\"\n",
    "                else:\n",
    "                    notebook_text += \"No data found in this output.\\n\"\n",
    "\n",
    "# Copy the extracted content to the clipboard\n",
    "pyperclip.copy(notebook_text)\n",
    "print(\"Notebook content copied to clipboard.\")\n"
   ]
  },
  {
   "cell_type": "code",
   "execution_count": null,
   "id": "ec8c98d4-576c-475f-8e1e-2fb397757a75",
   "metadata": {},
   "outputs": [],
   "source": []
  }
 ],
 "metadata": {
  "kernelspec": {
   "display_name": "Python 3 (ipykernel)",
   "language": "python",
   "name": "python3"
  },
  "language_info": {
   "codemirror_mode": {
    "name": "ipython",
    "version": 3
   },
   "file_extension": ".py",
   "mimetype": "text/x-python",
   "name": "python",
   "nbconvert_exporter": "python",
   "pygments_lexer": "ipython3",
   "version": "3.10.16"
  }
 },
 "nbformat": 4,
 "nbformat_minor": 5
}
